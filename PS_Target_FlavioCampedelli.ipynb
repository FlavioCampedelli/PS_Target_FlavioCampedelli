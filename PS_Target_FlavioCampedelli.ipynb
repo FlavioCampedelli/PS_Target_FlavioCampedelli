{
  "nbformat": 4,
  "nbformat_minor": 0,
  "metadata": {
    "colab": {
      "provenance": [],
      "authorship_tag": "ABX9TyNWxDFUCIu39DWx9Nzy6Bia",
      "include_colab_link": true
    },
    "kernelspec": {
      "name": "python3",
      "display_name": "Python 3"
    },
    "language_info": {
      "name": "python"
    }
  },
  "cells": [
    {
      "cell_type": "markdown",
      "metadata": {
        "id": "view-in-github",
        "colab_type": "text"
      },
      "source": [
        "<a href=\"https://colab.research.google.com/github/FlavioCampedelli/PS_Target_FlavioCampedelli/blob/main/PS_Target_FlavioCampedelli.ipynb\" target=\"_parent\"><img src=\"https://colab.research.google.com/assets/colab-badge.svg\" alt=\"Open In Colab\"/></a>"
      ]
    },
    {
      "cell_type": "markdown",
      "source": [
        "Programa de Estágio **Target Sistemas**\n",
        "| *Flávio Campedelli*"
      ],
      "metadata": {
        "id": "5oGJUdNSkO0x"
      }
    },
    {
      "cell_type": "markdown",
      "source": [
        "**1)** Observe o trecho de código abaixo: int INDICE = 13, SOMA = 0, K = 0;\n",
        "Enquanto K < INDICE faça { K = K + 1; SOMA = SOMA + K; }\n",
        "Imprimir(SOMA);\n",
        "Ao final do processamento, qual será o valor da variável SOMA?"
      ],
      "metadata": {
        "id": "oDZJzklgkuGi"
      }
    },
    {
      "cell_type": "code",
      "execution_count": 9,
      "metadata": {
        "colab": {
          "base_uri": "https://localhost:8080/"
        },
        "id": "J7Qy7_eBQ6S3",
        "outputId": "87fadcf0-56f5-4d68-8d7e-07a823b4bb77"
      },
      "outputs": [
        {
          "output_type": "stream",
          "name": "stdout",
          "text": [
            "91\n"
          ]
        }
      ],
      "source": [
        "INDICE = 13\n",
        "SOMA = 0\n",
        "K = 0\n",
        "\n",
        "while K < INDICE:\n",
        "  K = K + 1\n",
        "  SOMA = SOMA + K\n",
        "\n",
        "print(SOMA)"
      ]
    },
    {
      "cell_type": "markdown",
      "source": [
        "**2)** Dado a sequência de Fibonacci, onde se inicia por 0 e 1 e o próximo valor sempre será a soma dos 2 valores anteriores (exemplo: 0, 1, 1, 2, 3, 5, 8, 13, 21, 34...), escreva um programa na linguagem que desejar onde, informado um número, ele calcule a sequência de Fibonacci e retorne uma mensagem avisando se o número informado pertence ou não a sequência.\n",
        "\n",
        "IMPORTANTE: Esse número pode ser informado através de qualquer entrada de sua preferência ou pode ser previamente definido no código;"
      ],
      "metadata": {
        "id": "uByGy-J_ltOp"
      }
    },
    {
      "cell_type": "code",
      "source": [
        "def pertence_sequencia(numero):\n",
        "  a = 0\n",
        "  b = 1\n",
        "  while b < numero:\n",
        "    a = b\n",
        "    b = a + b\n",
        "  return b == numero\n",
        "\n",
        "\n",
        "numero = int(input(\"Número: \"))\n",
        "\n",
        "if pertence_sequencia(numero):\n",
        "  print(f\"{numero} pertence à sequência\")\n",
        "else:\n",
        "  print(f\"{numero} não pertence à sequência\")"
      ],
      "metadata": {
        "colab": {
          "base_uri": "https://localhost:8080/"
        },
        "id": "fy2v_zcwRL4g",
        "outputId": "53905e75-b59a-4d6c-a882-18aee7ddc394"
      },
      "execution_count": 22,
      "outputs": [
        {
          "output_type": "stream",
          "name": "stdout",
          "text": [
            "Número: 1024\n",
            "1024 pertence à sequência\n"
          ]
        }
      ]
    },
    {
      "cell_type": "markdown",
      "source": [
        "**3)** Dado um vetor que guarda o valor de faturamento diário de uma distribuidora, faça um programa, na linguagem que desejar, que calcule e retorne:\n",
        "• O menor valor de faturamento ocorrido em um dia do mês;\n",
        "• O maior valor de faturamento ocorrido em um dia do mês;\n",
        "• Número de dias no mês em que o valor de faturamento diário foi superior à média mensal.\n",
        "\n",
        "IMPORTANTE:\n",
        "a) Usar o json ou xml disponível como fonte dos dados do faturamento mensal;\n",
        "b) Podem existir dias sem faturamento, como nos finais de semana e feriados. Estes dias devem ser ignorados no cálculo da média;"
      ],
      "metadata": {
        "id": "s0_x7cH93qaA"
      }
    },
    {
      "cell_type": "code",
      "source": [
        "import json\n",
        "dados = [\n",
        "  {\n",
        "    \"dia\": 1,\n",
        "    \"valor\": 22174.1664\n",
        "  },\n",
        "  {\n",
        "    \"dia\": 2,\n",
        "    \"valor\": 24537.6698\n",
        "  },\n",
        "  {\n",
        "    \"dia\": 3,\n",
        "    \"valor\": 26139.6134\n",
        "  },\n",
        "  {\n",
        "    \"dia\": 4,\n",
        "    \"valor\": 0.0\n",
        "  },\n",
        "  {\n",
        "    \"dia\": 5,\n",
        "    \"valor\": 0.0\n",
        "  },\n",
        "  {\n",
        "    \"dia\": 6,\n",
        "    \"valor\": 26742.6612\n",
        "  },\n",
        "  {\n",
        "    \"dia\": 7,\n",
        "    \"valor\": 0.0\n",
        "  },\n",
        "  {\n",
        "    \"dia\": 8,\n",
        "    \"valor\": 42889.2258\n",
        "  },\n",
        "  {\n",
        "    \"dia\": 9,\n",
        "    \"valor\": 46251.174\n",
        "  },\n",
        "  {\n",
        "    \"dia\": 10,\n",
        "    \"valor\": 11191.4722\n",
        "  },\n",
        "  {\n",
        "    \"dia\": 11,\n",
        "    \"valor\": 0.0\n",
        "  },\n",
        "  {\n",
        "    \"dia\": 12,\n",
        "    \"valor\": 0.0\n",
        "  },\n",
        "  {\n",
        "    \"dia\": 13,\n",
        "    \"valor\": 3847.4823\n",
        "  },\n",
        "  {\n",
        "    \"dia\": 14,\n",
        "    \"valor\": 373.7838\n",
        "  },\n",
        "  {\n",
        "    \"dia\": 15,\n",
        "    \"valor\": 2659.7563\n",
        "  },\n",
        "  {\n",
        "    \"dia\": 16,\n",
        "    \"valor\": 48924.2448\n",
        "  },\n",
        "  {\n",
        "    \"dia\": 17,\n",
        "    \"valor\": 18419.2614\n",
        "  },\n",
        "  {\n",
        "    \"dia\": 18,\n",
        "    \"valor\": 0.0\n",
        "  },\n",
        "  {\n",
        "    \"dia\": 19,\n",
        "    \"valor\": 0.0\n",
        "  },\n",
        "  {\n",
        "    \"dia\": 20,\n",
        "    \"valor\": 35240.1826\n",
        "  },\n",
        "  {\n",
        "    \"dia\": 21,\n",
        "    \"valor\": 43829.1667\n",
        "  },\n",
        "  {\n",
        "    \"dia\": 22,\n",
        "    \"valor\": 18235.6852\n",
        "  },\n",
        "  {\n",
        "    \"dia\": 23,\n",
        "    \"valor\": 4355.0662\n",
        "  },\n",
        "  {\n",
        "    \"dia\": 24,\n",
        "    \"valor\": 13327.1025\n",
        "  },\n",
        "  {\n",
        "    \"dia\": 25,\n",
        "    \"valor\": 0.0\n",
        "  },\n",
        "  {\n",
        "    \"dia\": 26,\n",
        "    \"valor\": 0.0\n",
        "  },\n",
        "  {\n",
        "    \"dia\": 27,\n",
        "    \"valor\": 25681.8318\n",
        "  },\n",
        "  {\n",
        "    \"dia\": 28,\n",
        "    \"valor\": 1718.1221\n",
        "  },\n",
        "  {\n",
        "    \"dia\": 29,\n",
        "    \"valor\": 13220.495\n",
        "  },\n",
        "  {\n",
        "    \"dia\": 30,\n",
        "    \"valor\": 8414.61\n",
        "  }\n",
        "]\n",
        "\n",
        "faturamentos = [dia[\"valor\"] for dia in dados if dia[\"valor\"] > 0]\n",
        "\n",
        "menor_faturamento = min(faturamentos)\n",
        "\n",
        "maior_faturamento = max(faturamentos)\n",
        "\n",
        "media_faturamento = sum(faturamentos) / len(faturamentos)\n",
        "\n",
        "dias_acima = len([dia for dia in faturamentos if dia > media_faturamento])\n",
        "\n",
        "print(f\"Menor valor de faturamento: {menor_faturamento:.2f}\")\n",
        "print(f\"Maior valor de faturamento: {maior_faturamento:.2f}\")\n",
        "print(f\"Dias com faturamento acima da média: {dias_acima}\")\n"
      ],
      "metadata": {
        "colab": {
          "base_uri": "https://localhost:8080/"
        },
        "id": "gGB9cjbtjoho",
        "outputId": "126b0d93-d8b8-4ff3-8338-59d7f13aea3c"
      },
      "execution_count": 24,
      "outputs": [
        {
          "output_type": "stream",
          "name": "stdout",
          "text": [
            "Menor valor de faturamento: 373.78\n",
            "Maior valor de faturamento: 48924.24\n",
            "Dias com faturamento acima da média: 10\n"
          ]
        }
      ]
    },
    {
      "cell_type": "markdown",
      "source": [
        "**4)** Dado o valor de faturamento mensal de uma distribuidora, detalhado por estado:\n",
        "• SP – 67.836,43\n",
        "• RJ – 36.678,66\n",
        "• MG – 29.229,88\n",
        "• ES – 27.165,48\n",
        "• Outros – 19.849,53\n",
        "\n",
        "Escreva um programa na linguagem que desejar onde calcule o percentual de representação que cada estado teve dentro do valor total mensal da distribuidora."
      ],
      "metadata": {
        "id": "SFquSm134wCp"
      }
    },
    {
      "cell_type": "code",
      "source": [
        "faturamento_por_estado = {\n",
        "    'SP': 67836.43,\n",
        "    'RJ': 36678.66,\n",
        "    'MG': 29229.88,\n",
        "    'ES': 27165.48,\n",
        "    'Outros': 19849.53\n",
        "}\n",
        "\n",
        "faturamento_total = sum(faturamento_por_estado.values())\n",
        "\n",
        "for estado, faturamento in faturamento_por_estado.items():\n",
        "  percentual = (faturamento / faturamento_total) * 100\n",
        "  print(f\"{estado}:{percentual:.2f}%\")"
      ],
      "metadata": {
        "colab": {
          "base_uri": "https://localhost:8080/"
        },
        "id": "Afok3pO89Xj6",
        "outputId": "ec572fd1-ac29-4f67-c08f-b04d0cd6cded"
      },
      "execution_count": 15,
      "outputs": [
        {
          "output_type": "stream",
          "name": "stdout",
          "text": [
            "SP:37.53%\n",
            "RJ:20.29%\n",
            "MG:16.17%\n",
            "ES:15.03%\n",
            "Outros:10.98%\n"
          ]
        }
      ]
    },
    {
      "cell_type": "markdown",
      "source": [
        "**5)** Escreva um programa que inverta os caracteres de um string.\n",
        "\n",
        "IMPORTANTE:\n",
        "a) Essa string pode ser informada através de qualquer entrada de sua preferência ou pode ser previamente definida no código;\n",
        "b) Evite usar funções prontas, como, por exemplo, reverse;"
      ],
      "metadata": {
        "id": "X-wnrPR19uSO"
      }
    },
    {
      "cell_type": "code",
      "source": [
        "def inverter_string(texto):\n",
        "  texto_invertido = \"\"\n",
        "  for i in range(len(texto) - 1, -1, -1):\n",
        "    texto_invertido += texto[i]\n",
        "  return texto_invertido\n",
        "\n",
        "texto = input(\"Texto: \")\n",
        "texto_invertido = inverter_string(texto)\n",
        "print(f\"Texto invertido: {texto_invertido}\")\n"
      ],
      "metadata": {
        "colab": {
          "base_uri": "https://localhost:8080/"
        },
        "id": "AgrYIFAETpgj",
        "outputId": "f3b49837-510f-476c-c5ad-48669cf7dc6d"
      },
      "execution_count": 27,
      "outputs": [
        {
          "output_type": "stream",
          "name": "stdout",
          "text": [
            "Texto: flavio campedelli quer trabalhar na target sistemas\n",
            "Texto invertido: sametsis tegrat an rahlabart reuq illedepmac oivalf\n"
          ]
        }
      ]
    }
  ]
}